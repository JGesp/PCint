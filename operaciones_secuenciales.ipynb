{
  "cells": [
    {
      "cell_type": "markdown",
      "metadata": {
        "id": "view-in-github",
        "colab_type": "text"
      },
      "source": [
        "<a href=\"https://colab.research.google.com/github/JGesp/PCint/blob/main/operaciones_secuenciales.ipynb\" target=\"_parent\"><img src=\"https://colab.research.google.com/assets/colab-badge.svg\" alt=\"Open In Colab\"/></a>"
      ]
    },
    {
      "cell_type": "markdown",
      "source": [
        "#Operaciones Secuenciales de la Tienda de Electrónica\n",
        "Fecha:28/02/2025 <br>\n",
        "Nombre: Jose Tomas Velasquez Perez<br>\n",
        "ID:000565025<br>\n",
        "Correo: joset.velasquez@upb.edu.co<br>\n",
        "Nombre: Santiago Villarreal Mendivil<br>\n",
        "ID: 000577548<br>\n",
        "Correo:santiago.villarreal@upb.edu.co<br>\n",
        "Nombre: Jesus Gabriel Espitia Portillo<br>\n",
        "ID:000574185<br>\n",
        "Correo: jesus.espitia@upb.edu.co<br>\n",
        "Nombre:Samuel Andres Oyola Giraldo<br>\n",
        "ID: 000578808<br>\n",
        "Correo:samuel.oyola@upb.edu.co <br>"
      ],
      "metadata": {
        "id": "vcihyGYrI5AW"
      }
    },
    {
      "cell_type": "markdown",
      "source": [
        "#PCint"
      ],
      "metadata": {
        "id": "ezQjU6_RLqaO"
      }
    },
    {
      "cell_type": "markdown",
      "source": [
        "##1. Venta de un Producto:<br>\n",
        "Diseñar un programa que genere una factura de compra para un producto. El programa debe solicitar\n",
        "al usuario:<br>\n",
        "• Nombre del cliente.<br>\n",
        "• Identificación del cliente.<br>\n",
        "• Nombre del producto.<br>\n",
        "• Precio unitario del producto.<br>\n",
        "Cantidad comprada.<br>\n",
        "La factura debe mostrar:<br>\n",
        "• Nombre de la tienda.<br>\n",
        "• Número de factura (ejemplo: \"Factura de Venta No. 000\").<br>\n",
        "• Datos del cliente (nombre e identificación).<br>\n",
        "• Detalles del producto (nombre, precio unitario, cantidad comprada).<br>\n",
        "• Resumen de la compra (base, IVA del 19% y valor total).<br>\n",
        "Nota: el valor total es el precio unitario por la cantidad comprada.<br>"
      ],
      "metadata": {
        "id": "caErXfUmPbYk"
      }
    },
    {
      "cell_type": "markdown",
      "source": [
        "##Algoritmo #1\n",
        "\n",
        "1. Start.\n",
        "\n",
        "2. Declare variables for the Store Name as \"PCINT\" and Invoice Number as 001, Customer Name and ID, and Product Name and Purchase Price.\n",
        "\n",
        "3. Ask the user for the Product Name, ID, and Product Name and Purchase Price.\n",
        "\n",
        "4. Calculate the subtotal by multiplying the purchase price with the Purchased Quantity.\n",
        "\n",
        "5. Calculate the VAT by multiplying the subtotal with 19% (0.19)\n",
        "\n",
        "6. Calculate the Total by adding the subtotal with the VAT.\n",
        "\n",
        "7. Mostrar the user the Store Name and the Sales Invoice.\n",
        "\n",
        "8. Mostrar the user the Customer Name and ID, Product Name, Purchase Price, and Purchased Quantity.\n",
        "\n",
        "9. Mostrar the user the values ​​for the subtotal, VAT, and total.\n",
        "\n",
        "10. End"
      ],
      "metadata": {
        "id": "eV-VZvDYx3DD"
      }
    },
    {
      "cell_type": "code",
      "source": [
        "name = input(\"Client Name: \")\n",
        "ID = input(\"Customer Identification: \")\n",
        "\n",
        "product = input(\"Product name: \")\n",
        "price = float(input(\"Unit price of the product: \"))\n",
        "amount = int(input(\"Quantity purchased: \"))\n",
        "\n",
        "subtotal = price * amount\n",
        "vat = subtotal * 0.19\n",
        "total = subtotal + vat\n",
        "\n",
        "# print invoice\n",
        "print(\"\\n======= PURCHASE INVOICE =====\")\n",
        "print(\"Store name: PC Int\")\n",
        "print(\"Invoice Number: Sales Invoice No. 001\")\n",
        "print(\"Client:\", name, \"- ID:\", ID)\n",
        "print(\"Product:\", product, \"- Price:\", price, \"- amount:\", amount)\n",
        "print(\"Subtotal:\", subtotal)\n",
        "print(\"VAT (19%):\", vat)\n",
        "print(\"Total to pay:\",total)"
      ],
      "metadata": {
        "id": "DcUZAaG_wIR0"
      },
      "execution_count": null,
      "outputs": []
    },
    {
      "cell_type": "markdown",
      "source": [
        "##Pseudocodigo #1\n",
        "```\n",
        "Start\n",
        "Declare as String name, id, product\n",
        "Declare as Float price, subtotal, vat, total\n",
        "Declare as Integer quantity\n",
        "\n",
        "Display \"Customer name: \"\n",
        "Set name = Input()\n",
        "\n",
        "Display \"Customer id: \"\n",
        "Set id = Input()\n",
        "\n",
        "Display \"Product name: \"\n",
        "Set product = Input()\n",
        "\n",
        "Display \"Unit price of product: \"\n",
        "Set price = Input()\n",
        "\n",
        "Display \"Purchased quantity: \"\n",
        "Set quantity = Input()\n",
        "\n",
        "Set subtotal = price * quantity\n",
        "Set vat = subtotal * 0.19\n",
        "Set total = subtotal + vat\n",
        "\n",
        "Display \"\\n===== PURCHASE INVOICE =====\"\n",
        "Display \"Store name: PC Int\"\n",
        "Display \"Invoice number: Sales Invoice No. 001\"\n",
        "Display \"Customer:\", name, \"- ID:\", id\n",
        "Display \"Product:\", product, \"- Price:\", price, \"- Quantity:\", quantity\n",
        "Display \"Subtotal:\", subtotal\n",
        "Display \"VAT (19%):\", VAT\n",
        "Display \"Total to pay:\", total\n",
        "End\n",
        "```"
      ],
      "metadata": {
        "id": "Nf1QCTcqwlDa"
      }
    },
    {
      "cell_type": "markdown",
      "source": [
        "##2. Calcular Utilidad:\n",
        "Diseñar un programa que calcule la utilidad de la venta de un producto en términos porcentuales. El\n",
        "programa debe solicitar al usuario:<br>\n",
        "• Precio de compra del producto.<br>\n",
        "• Precio de venta del producto.<br>\n",
        "El programa debe mostrar:<br>\n",
        "• Margen de operación y administrativo (15% del precio de venta).<br>\n",
        "• Costo del producto (precio de venta + margen de operación y administrativo).<br>\n",
        "• Utilidad absoluta (diferencia entre el precio de venta y el costo del producto).<br>\n",
        "• Utilidad porcentual.<br>"
      ],
      "metadata": {
        "id": "6jeAGuEBy8of"
      }
    },
    {
      "cell_type": "markdown",
      "source": [
        "##Algoritmo 2\n",
        "\n",
        "1.START\n",
        "\n",
        "2.Solicitar entrada de datos:<br>\n",
        "\n",
        "3.Precio de compra del producto.<br>\n",
        "4.Precio de venta del producto.<br>\n",
        "5.Calcular el margen de operación y administrativo:<br>\n",
        "\n",
        "6.Margen = 15% del precio de venta.<br>\n",
        "Calcular el costo del producto:<br>\n",
        "\n",
        "7.Costo = Precio de compra + Margen.<br>\n",
        "Calcular la utilidad absoluta:<br>\n",
        "\n",
        "8.Utilidad absoluta = Precio de venta - Costo del producto.<br>\n",
        "9.Calcular la utilidad porcentual:<br>\n",
        "\n",
        "10.Utilidad porcentual = (Utilidad absoluta / Costo del producto) * 100<br>\n",
        "11.Mostrar los resultados.<BR>\n",
        "12.END"
      ],
      "metadata": {
        "id": "DkSPqHhFilYO"
      }
    },
    {
      "cell_type": "code",
      "source": [
        "\n",
        "precio_compra = float(input(\"Ingrese el precio de compra del producto: \"))\n",
        "precio_venta = float(input(\"Ingrese el precio de venta del producto: \"))\n",
        "\n",
        "\n",
        "margen = 0.15 * precio_venta\n",
        "\n",
        "costo_producto = precio_compra + margen\n",
        "\n",
        "\n",
        "utilidad_absoluta = precio_venta - costo_producto\n",
        "\n",
        "\n",
        "utilidad_porcentual = (utilidad_absoluta / costo_producto) * 100\n",
        "\n",
        "\n",
        "print(\"\\nResultados:\")\n",
        "print(\"Margen de operación y administrativo:\", margen)\n",
        "print(\"Costo del producto:\", costo_producto)\n",
        "print(\"Utilidad absoluta:\", utilidad_absoluta)\n",
        "print(\"Utilidad porcentual:\", utilidad_porcentual, \"%\")"
      ],
      "metadata": {
        "id": "yMYO2pWmiKwb"
      },
      "execution_count": null,
      "outputs": []
    },
    {
      "cell_type": "markdown",
      "source": [
        "##PSEUDOCODIGO 2\n",
        "\n",
        "```\n",
        "START  \n",
        "\n",
        "DECLARE REAL purchase_price, selling_price, margin, total_cost, absolute_profit, percentage_profit  \n",
        "\n",
        "DISPLAY \"Enter the purchase price of the product\"  \n",
        "INPUT purchase_price  \n",
        "\n",
        "DISPLAY \"Enter the selling price of the product\"  \n",
        "INPUT selling_price  \n",
        "\n",
        "SET margin = 0.15 * selling_price  \n",
        "SET total_cost = purchase_price + margin  \n",
        "SET absolute_profit = selling_price - total_cost  \n",
        "SET percentage_profit = (absolute_profit / total_cost) * 100  \n",
        "\n",
        "DISPLAY \"Operating and administrative margin:\", margin  \n",
        "DISPLAY \"Total product cost:\", total_cost  \n",
        "DISPLAY \"Absolute profit:\", absolute_profit  \n",
        "DISPLAY \"Percentage profit:\", percentage_profit, \"%\"  \n",
        "\n",
        "END  \n",
        "\n",
        "```\n"
      ],
      "metadata": {
        "id": "ELI6_8pLiNQk"
      }
    },
    {
      "cell_type": "markdown",
      "source": [
        "##3. PRECIO PROMEDIO\n",
        "Diseñar un programa que calcule el precio promedio de los tres productos más vendidos en la tienda\n",
        "a partir del nombre y precio de cada uno de los tres productos."
      ],
      "metadata": {
        "id": "JDA8kGGBklt7"
      }
    },
    {
      "cell_type": "markdown",
      "source": [
        "##Algoritmo 3\n",
        "  \n",
        "\n",
        "1. START  \n",
        "2. Declarar precio de compra, precio de venta, margen de operación y administrativo, costo total del producto, utilidad absoluta, utilidad porcentual.  \n",
        "3. Solicitar al usuario el precio de compra del producto.  \n",
        "4. Solicitar al usuario el precio de venta del producto.  \n",
        "5. Calcular el margen de operación y administrativo como:  \n",
        "   **margen de operación y administrativo = precio de venta 0.15\n",
        "6. Calcular el costo total del producto:  \n",
        "   costo total del producto = precio de compra + margen de operación y administrativo  \n",
        "7. Calcular la utilidad absoluta:  \n",
        "   utilidad absoluta = precio de venta - costo total del producto**  \n",
        "8. Calcular la utilidad porcentual:  \n",
        "   utilidad porcentual = (utilidad absoluta / costo total del producto) 100  \n",
        "9. Mostrar el margen de operación y administrativo.  \n",
        "10. Mostrar el costo total del producto.  \n",
        "11. Mostrar la utilidad absoluta.  \n",
        "12. Mostrar la utilidad porcentual.  \n",
        "13. END  "
      ],
      "metadata": {
        "id": "lb5kePYnks8w"
      }
    },
    {
      "cell_type": "code",
      "source": [
        "product1_name = input(\"Enter the name of the first product: \")\n",
        "product1_price = float(input(\"Enter the price of the first product: \"))\n",
        "\n",
        "product2_name = input(\"Enter the name of the second product: \")\n",
        "product2_price = float(input(\"Enter the price of the second product: \"))\n",
        "\n",
        "product3_name = input(\"Enter the name of the third product: \")\n",
        "product3_price = float(input(\"Enter the price of the third product: \"))\n",
        "\n",
        "average_price = (product1_price + product2_price + product3_price) / 3\n",
        "\n",
        "print(\"The average price of the three best-selling products is:\", average_price)\n"
      ],
      "metadata": {
        "id": "jW298ujhkxk8"
      },
      "execution_count": null,
      "outputs": []
    },
    {
      "cell_type": "markdown",
      "source": [
        "##PSEUDOCODIGO 3\n",
        "```\n",
        "START  \n",
        "\n",
        "DECLARE STRING product1_name, product2_name, product3_name  \n",
        "DECLARE REAL product1_price, product2_price, product3_price, average_price  \n",
        "\n",
        "DISPLAY \"Enter the name of the first product\"  \n",
        "INPUT product1_name  \n",
        "DISPLAY \"Enter the price of the first product\"  \n",
        "INPUT product1_price  \n",
        "\n",
        "DISPLAY \"Enter the name of the second product\"  \n",
        "INPUT product2_name  \n",
        "DISPLAY \"Enter the price of the second product\"  \n",
        "INPUT product2_price  \n",
        "\n",
        "DISPLAY \"Enter the name of the third product\"  \n",
        "INPUT product3_name  \n",
        "DISPLAY \"Enter the price of the third product\"  \n",
        "INPUT product3_price  \n",
        "\n",
        "SET average_price = (product1_price + product2_price + product3_price) / 3  \n",
        "\n",
        "DISPLAY \"The average price of the three best-selling products is:\", average_price  \n",
        "\n",
        "END  \n",
        "```"
      ],
      "metadata": {
        "id": "XK8pgP65kxAg"
      }
    }
  ],
  "metadata": {
    "colab": {
      "toc_visible": true,
      "provenance": [],
      "include_colab_link": true
    },
    "kernelspec": {
      "display_name": "Python 3",
      "name": "python3"
    }
  },
  "nbformat": 4,
  "nbformat_minor": 0
}