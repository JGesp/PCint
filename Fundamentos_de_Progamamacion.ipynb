{
  "cells": [
    {
      "cell_type": "markdown",
      "metadata": {
        "id": "view-in-github",
        "colab_type": "text"
      },
      "source": [
        "<a href=\"https://colab.research.google.com/github/JGesp/PCint/blob/main/Fundamentos_de_Progamamacion.ipynb\" target=\"_parent\"><img src=\"https://colab.research.google.com/assets/colab-badge.svg\" alt=\"Open In Colab\"/></a>"
      ]
    },
    {
      "cell_type": "code",
      "source": [
        "#perfil de usuario\n",
        "print(\"perfil del usuario\")\n",
        "nombre = input(\"escriba su nombre:\" + \" \")\n",
        "edad = input(\"escriba su edad:\" + \" \")\n",
        "residencia = input(\"lugar donde vive:\" + \" \")\n",
        "\n",
        "\n",
        "#calcular el area y el volummen de un ortoedro\n",
        "largo = int(input(\"largo:\"))\n",
        "ancho = int(input(\"ancho:\"))\n",
        "altura = int(input(\"altura:\"))\n",
        "volumen = largo * ancho * altura\n",
        "print(volumen)\n",
        "area = 2 * (largo * ancho + largo * altura + ancho * altura)\n",
        "print(area)\n",
        "print(\"ortoedro\")\n",
        "#calcular el area y el volummen de un  cilindro\n",
        "import math\n",
        "radio = int(input(\"radio:\"))\n",
        "altura = int(input(\"altura:\"))\n",
        "volumen = math.pi * radio ** 2 * altura\n",
        "print(volumen)\n",
        "area = 2 * math.pi * radio * (radio + altura)\n",
        "print(area)\n",
        "print(\"cilindro\")\n",
        "#calcular el area y el volumen de una esfera\n",
        "radio = int(input(\"radio:\"))\n",
        "volumen = 4/3 * 3.1416 * 125\n",
        "print(volumen)\n",
        "area = 4 * 3.1416 * 25\n",
        "print(area)\n",
        "print(\"esfera\")\n",
        "\n",
        "\n",
        "\n",
        "\n",
        "\n",
        "\n",
        "\n",
        "\n"
      ],
      "metadata": {
        "id": "7xWXEMEfK2aB",
        "outputId": "4d3b9cc6-cdf8-403e-9315-89706c2ce92e",
        "colab": {
          "base_uri": "https://localhost:8080/"
        }
      },
      "execution_count": 2,
      "outputs": [
        {
          "output_type": "stream",
          "name": "stdout",
          "text": [
            "perfil del usuario\n",
            "escriba su nombre: Jesus\n",
            "escriba su edad: 17\n",
            "lugar donde vive: Lorica\n",
            "largo:5\n",
            "ancho:3\n",
            "altura:2\n",
            "30\n",
            "62\n",
            "ortoedro\n",
            "radio:5\n",
            "altura:3\n",
            "235.61944901923448\n",
            "251.32741228718345\n",
            "cilindro\n",
            "radio:5\n",
            "523.5999999999999\n",
            "314.15999999999997\n",
            "esfera\n"
          ]
        }
      ]
    }
  ],
  "metadata": {
    "colab": {
      "toc_visible": true,
      "provenance": [],
      "include_colab_link": true
    },
    "kernelspec": {
      "display_name": "Python 3",
      "name": "python3"
    }
  },
  "nbformat": 4,
  "nbformat_minor": 0
}