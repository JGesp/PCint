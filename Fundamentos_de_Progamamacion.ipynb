{
  "cells": [
    {
      "cell_type": "markdown",
      "metadata": {
        "id": "view-in-github",
        "colab_type": "text"
      },
      "source": [
        "<a href=\"https://colab.research.google.com/github/JGesp/PCint/blob/main/Fundamentos_de_Progamamacion.ipynb\" target=\"_parent\"><img src=\"https://colab.research.google.com/assets/colab-badge.svg\" alt=\"Open In Colab\"/></a>"
      ]
    },
    {
      "cell_type": "code",
      "source": [
        "#perfil de usuario\n",
        "print(\"perfil del usuario\")\n",
        "nombre = input(\"escriba su nombre\" + \" \")\n",
        "edad = input(\"escriba su edad\" + \" \")\n",
        "residencia = input(\"lugar donde vive\" + \" \")\n",
        "\n",
        "\n",
        "#calcular el area y el volummen de un ortoedro\n",
        "largo = 5\n",
        "ancho = 3\n",
        "altura = 2\n",
        "volumen = largo * ancho * altura\n",
        "print(volumen)\n",
        "area = 2 * (largo * ancho + largo * altura + ancho * altura)\n",
        "print(area)\n",
        "print(\"ortoedro\")\n",
        "#calcular el area y el volummen de un  cilindro\n",
        "import math\n",
        "radio = 5\n",
        "altura = 3\n",
        "volumen = math.pi * radio ** 2 * altura\n",
        "print(volumen)\n",
        "area = 2 * math.pi * radio * (radio + altura)\n",
        "print(area)\n",
        "print(\"cilindro\")\n",
        "#calcular el area y el volumen de una esfera\n",
        "radio = 5\n",
        "volumen = 4/3 * 3.1416 * 125\n",
        "print(volumen)\n",
        "area = 4 * 3.1416 * 25\n",
        "print(area)\n",
        "print(\"esfera\")\n",
        "\n",
        "\n",
        "\n",
        "\n",
        "\n",
        "\n",
        "\n",
        "\n"
      ],
      "metadata": {
        "id": "7xWXEMEfK2aB",
        "outputId": "6f903ac5-6b65-42b6-8678-4bbf38baca15",
        "colab": {
          "base_uri": "https://localhost:8080/"
        }
      },
      "execution_count": 4,
      "outputs": [
        {
          "output_type": "stream",
          "name": "stdout",
          "text": [
            "perfil del usuario\n",
            "escriba su nombre Jesus\n",
            "escriba su edad 17\n",
            "lugar donde vive lorica\n",
            "30\n",
            "62\n",
            "ortoedro\n",
            "235.61944901923448\n",
            "251.32741228718345\n",
            "cilindro\n",
            "523.5999999999999\n",
            "314.15999999999997\n",
            "esfera\n"
          ]
        }
      ]
    }
  ],
  "metadata": {
    "colab": {
      "toc_visible": true,
      "provenance": [],
      "include_colab_link": true
    },
    "kernelspec": {
      "display_name": "Python 3",
      "name": "python3"
    }
  },
  "nbformat": 4,
  "nbformat_minor": 0
}